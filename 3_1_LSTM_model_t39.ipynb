{
 "cells": [
  {
   "cell_type": "code",
   "execution_count": 2,
   "id": "bottom-measurement",
   "metadata": {},
   "outputs": [],
   "source": [
    "import numpy as np\n",
    "import tensorflow as tf\n",
    "from tensorflow import keras\n",
    "import matplotlib.pyplot as plt\n",
    "import csv\n",
    "from ast import literal_eval\n",
    "import pandas as pd"
   ]
  },
  {
   "cell_type": "code",
   "execution_count": 3,
   "id": "substantial-department",
   "metadata": {},
   "outputs": [
    {
     "data": {
      "text/html": [
       "<div>\n",
       "<style scoped>\n",
       "    .dataframe tbody tr th:only-of-type {\n",
       "        vertical-align: middle;\n",
       "    }\n",
       "\n",
       "    .dataframe tbody tr th {\n",
       "        vertical-align: top;\n",
       "    }\n",
       "\n",
       "    .dataframe thead th {\n",
       "        text-align: right;\n",
       "    }\n",
       "</style>\n",
       "<table border=\"1\" class=\"dataframe\">\n",
       "  <thead>\n",
       "    <tr style=\"text-align: right;\">\n",
       "      <th></th>\n",
       "      <th>type 0</th>\n",
       "      <th>type 1</th>\n",
       "      <th>type 2</th>\n",
       "      <th>type 3</th>\n",
       "      <th>type 4</th>\n",
       "      <th>type 5</th>\n",
       "      <th>type 6</th>\n",
       "      <th>type 7</th>\n",
       "      <th>type 8</th>\n",
       "      <th>type 9</th>\n",
       "      <th>...</th>\n",
       "      <th>type 30</th>\n",
       "      <th>type 31</th>\n",
       "      <th>type 32</th>\n",
       "      <th>type 33</th>\n",
       "      <th>type 34</th>\n",
       "      <th>type 35</th>\n",
       "      <th>type 36</th>\n",
       "      <th>type 37</th>\n",
       "      <th>type 38</th>\n",
       "      <th>type 39</th>\n",
       "    </tr>\n",
       "  </thead>\n",
       "  <tbody>\n",
       "    <tr>\n",
       "      <th>0</th>\n",
       "      <td>13</td>\n",
       "      <td>6</td>\n",
       "      <td>4</td>\n",
       "      <td>9</td>\n",
       "      <td>8</td>\n",
       "      <td>11</td>\n",
       "      <td>9</td>\n",
       "      <td>18</td>\n",
       "      <td>18</td>\n",
       "      <td>11</td>\n",
       "      <td>...</td>\n",
       "      <td>171</td>\n",
       "      <td>170</td>\n",
       "      <td>184</td>\n",
       "      <td>182</td>\n",
       "      <td>198</td>\n",
       "      <td>175</td>\n",
       "      <td>183</td>\n",
       "      <td>208</td>\n",
       "      <td>212</td>\n",
       "      <td>227</td>\n",
       "    </tr>\n",
       "    <tr>\n",
       "      <th>1</th>\n",
       "      <td>14</td>\n",
       "      <td>12</td>\n",
       "      <td>18</td>\n",
       "      <td>14</td>\n",
       "      <td>35</td>\n",
       "      <td>26</td>\n",
       "      <td>21</td>\n",
       "      <td>34</td>\n",
       "      <td>37</td>\n",
       "      <td>21</td>\n",
       "      <td>...</td>\n",
       "      <td>39</td>\n",
       "      <td>28</td>\n",
       "      <td>45</td>\n",
       "      <td>69</td>\n",
       "      <td>52</td>\n",
       "      <td>65</td>\n",
       "      <td>67</td>\n",
       "      <td>74</td>\n",
       "      <td>90</td>\n",
       "      <td>83</td>\n",
       "    </tr>\n",
       "    <tr>\n",
       "      <th>2</th>\n",
       "      <td>7</td>\n",
       "      <td>8</td>\n",
       "      <td>38</td>\n",
       "      <td>10</td>\n",
       "      <td>26</td>\n",
       "      <td>32</td>\n",
       "      <td>14</td>\n",
       "      <td>15</td>\n",
       "      <td>13</td>\n",
       "      <td>25</td>\n",
       "      <td>...</td>\n",
       "      <td>63</td>\n",
       "      <td>66</td>\n",
       "      <td>63</td>\n",
       "      <td>64</td>\n",
       "      <td>61</td>\n",
       "      <td>57</td>\n",
       "      <td>72</td>\n",
       "      <td>80</td>\n",
       "      <td>81</td>\n",
       "      <td>86</td>\n",
       "    </tr>\n",
       "    <tr>\n",
       "      <th>3</th>\n",
       "      <td>5</td>\n",
       "      <td>7</td>\n",
       "      <td>9</td>\n",
       "      <td>9</td>\n",
       "      <td>4</td>\n",
       "      <td>5</td>\n",
       "      <td>10</td>\n",
       "      <td>12</td>\n",
       "      <td>17</td>\n",
       "      <td>20</td>\n",
       "      <td>...</td>\n",
       "      <td>15</td>\n",
       "      <td>31</td>\n",
       "      <td>32</td>\n",
       "      <td>41</td>\n",
       "      <td>25</td>\n",
       "      <td>27</td>\n",
       "      <td>31</td>\n",
       "      <td>49</td>\n",
       "      <td>65</td>\n",
       "      <td>93</td>\n",
       "    </tr>\n",
       "    <tr>\n",
       "      <th>4</th>\n",
       "      <td>26</td>\n",
       "      <td>3</td>\n",
       "      <td>21</td>\n",
       "      <td>22</td>\n",
       "      <td>22</td>\n",
       "      <td>32</td>\n",
       "      <td>7</td>\n",
       "      <td>16</td>\n",
       "      <td>20</td>\n",
       "      <td>29</td>\n",
       "      <td>...</td>\n",
       "      <td>51</td>\n",
       "      <td>50</td>\n",
       "      <td>62</td>\n",
       "      <td>58</td>\n",
       "      <td>54</td>\n",
       "      <td>55</td>\n",
       "      <td>96</td>\n",
       "      <td>137</td>\n",
       "      <td>127</td>\n",
       "      <td>163</td>\n",
       "    </tr>\n",
       "  </tbody>\n",
       "</table>\n",
       "<p>5 rows × 40 columns</p>\n",
       "</div>"
      ],
      "text/plain": [
       "   type 0  type 1  type 2  type 3  type 4  type 5  type 6  type 7  type 8  \\\n",
       "0      13       6       4       9       8      11       9      18      18   \n",
       "1      14      12      18      14      35      26      21      34      37   \n",
       "2       7       8      38      10      26      32      14      15      13   \n",
       "3       5       7       9       9       4       5      10      12      17   \n",
       "4      26       3      21      22      22      32       7      16      20   \n",
       "\n",
       "   type 9  ...  type 30  type 31  type 32  type 33  type 34  type 35  type 36  \\\n",
       "0      11  ...      171      170      184      182      198      175      183   \n",
       "1      21  ...       39       28       45       69       52       65       67   \n",
       "2      25  ...       63       66       63       64       61       57       72   \n",
       "3      20  ...       15       31       32       41       25       27       31   \n",
       "4      29  ...       51       50       62       58       54       55       96   \n",
       "\n",
       "   type 37  type 38  type 39  \n",
       "0      208      212      227  \n",
       "1       74       90       83  \n",
       "2       80       81       86  \n",
       "3       49       65       93  \n",
       "4      137      127      163  \n",
       "\n",
       "[5 rows x 40 columns]"
      ]
     },
     "execution_count": 3,
     "metadata": {},
     "output_type": "execute_result"
    }
   ],
   "source": [
    "data = pd.read_csv(\"n_Data.csv\", sep=\",\")\n",
    "data.head(5)"
   ]
  },
  {
   "cell_type": "code",
   "execution_count": 4,
   "id": "banner-digest",
   "metadata": {},
   "outputs": [],
   "source": [
    "seq = 10\n",
    "type = [\"type %d\"%i for i in range(data.shape[1])]\n",
    "type_x = [\"type %d\"%i for i in range(data.shape[1]-seq)]\n",
    "#type_y = [\"type %d\"%i for i in range(data.shape[1]-1,data.shape[1]-6,-1)]\n",
    "type_y = [\"type %d\"%i for i in range(data.shape[1]-seq,data.shape[1])]"
   ]
  },
  {
   "cell_type": "code",
   "execution_count": 6,
   "id": "individual-wrestling",
   "metadata": {},
   "outputs": [],
   "source": [
    "from sklearn.preprocessing import MinMaxScaler\n",
    "\n",
    "scaler = MinMaxScaler()\n",
    "scale_cols = type\n",
    "df_scaled = scaler.fit_transform(data[scale_cols])\n",
    "\n",
    "df_scaled = pd.DataFrame(df_scaled)\n",
    "df_scaled.columns = scale_cols\n",
    "\n",
    "#print(df_scaled)"
   ]
  },
  {
   "cell_type": "code",
   "execution_count": 7,
   "id": "unauthorized-pathology",
   "metadata": {},
   "outputs": [],
   "source": [
    "train = df_scaled[:400]\n",
    "test = df_scaled[400:]"
   ]
  },
  {
   "cell_type": "code",
   "execution_count": 8,
   "id": "neutral-manhattan",
   "metadata": {},
   "outputs": [],
   "source": [
    "def make_dataset(data, label, window_size = 40-seq):\n",
    "    feature_list = []\n",
    "    label_list = []\n",
    "#     for i in range(len(data) - window_size):\n",
    "#         feature_list.append(np.array(data.iloc[i:i+window_size]))\n",
    "#         label_list.append(np.array(label.iloc[i+window_size]))\n",
    "    for i in range(data.shape[0]):\n",
    "        feature_list.append(np.array(data.iloc[i]))\n",
    "        label_list.append(np.array(label.iloc[i]))\n",
    "    \n",
    "    return np.array(feature_list), np.array(label_list)"
   ]
  },
  {
   "cell_type": "code",
   "execution_count": 10,
   "id": "numeric-negotiation",
   "metadata": {},
   "outputs": [
    {
     "data": {
      "text/plain": [
       "((360, 30, 1), (40, 30, 1))"
      ]
     },
     "execution_count": 10,
     "metadata": {},
     "output_type": "execute_result"
    }
   ],
   "source": [
    "feature_cols = type_x\n",
    "label_cols = type_y\n",
    "\n",
    "train_feature = train[feature_cols]\n",
    "train_label = train[label_cols]\n",
    "\n",
    "\n",
    "train_feature, train_label = make_dataset(train_feature, train_label, 40-seq)\n",
    "\n",
    "train_feature = train_feature.reshape(train_feature.shape[0],train_feature.shape[1],1)\n",
    "train_label = train_label.reshape(train_label.shape[0],train_label.shape[1],1)\n",
    "# print(train_label.shape)\n",
    "\n",
    "from sklearn.model_selection import train_test_split\n",
    "x_train, x_valid, y_train, y_valid = train_test_split(train_feature, train_label, test_size=0.1)\n",
    "\n",
    "x_train.shape, x_valid.shape"
   ]
  },
  {
   "cell_type": "code",
   "execution_count": 12,
   "id": "guided-malaysia",
   "metadata": {},
   "outputs": [],
   "source": [
    "#train_feature[1]"
   ]
  },
  {
   "cell_type": "code",
   "execution_count": 13,
   "id": "widespread-proposition",
   "metadata": {},
   "outputs": [
    {
     "data": {
      "text/plain": [
       "(400, 30, 1)"
      ]
     },
     "execution_count": 13,
     "metadata": {},
     "output_type": "execute_result"
    }
   ],
   "source": [
    "train_feature.shape"
   ]
  },
  {
   "cell_type": "code",
   "execution_count": 14,
   "id": "guilty-enforcement",
   "metadata": {},
   "outputs": [],
   "source": [
    "test_feature = test[feature_cols]\n",
    "test_label = test[label_cols]"
   ]
  },
  {
   "cell_type": "code",
   "execution_count": 15,
   "id": "signal-anderson",
   "metadata": {},
   "outputs": [
    {
     "data": {
      "text/plain": [
       "((100, 30, 1), (100, 10, 1))"
      ]
     },
     "execution_count": 15,
     "metadata": {},
     "output_type": "execute_result"
    }
   ],
   "source": [
    "test_feature, test_label = make_dataset(test_feature,test_label)\n",
    "\n",
    "test_feature = test_feature.reshape(test_feature.shape[0],test_feature.shape[1],1)\n",
    "test_label = test_label.reshape(test_label.shape[0],test_label.shape[1],1)\n",
    "\n",
    "test_feature.shape, test_label.shape"
   ]
  },
  {
   "cell_type": "code",
   "execution_count": 16,
   "id": "saving-capability",
   "metadata": {},
   "outputs": [
    {
     "name": "stdout",
     "output_type": "stream",
     "text": [
      "WARNING:tensorflow:Layer lstm will not use cuDNN kernel since it doesn't meet the cuDNN kernel criteria. It will use generic GPU kernel as fallback when running on GPU\n"
     ]
    }
   ],
   "source": [
    "from keras.models import Sequential\n",
    "from keras.layers import Dense\n",
    "from keras.callbacks import EarlyStopping, ModelCheckpoint\n",
    "from keras.layers import LSTM\n",
    "\n",
    "model = Sequential()\n",
    "model.add(LSTM(16,\n",
    "              input_shape=(train_feature.shape[1], train_feature.shape[2]),\n",
    "               activation='relu',\n",
    "               return_sequences=False)\n",
    "              )\n",
    "model.add(Dense(seq))"
   ]
  },
  {
   "cell_type": "code",
   "execution_count": 17,
   "id": "skilled-liabilities",
   "metadata": {
    "scrolled": true
   },
   "outputs": [
    {
     "name": "stdout",
     "output_type": "stream",
     "text": [
      "Epoch 1/30\n",
      "23/23 [==============================] - 1s 35ms/step - loss: 0.1184 - mae: 0.2303 - mse: 0.1184 - val_loss: 0.1042 - val_mae: 0.1892 - val_mse: 0.1042\n",
      "Epoch 2/30\n",
      "23/23 [==============================] - 1s 27ms/step - loss: 0.0734 - mae: 0.1807 - mse: 0.0734 - val_loss: 0.0495 - val_mae: 0.1564 - val_mse: 0.0495\n",
      "Epoch 3/30\n",
      "23/23 [==============================] - 1s 28ms/step - loss: 0.0417 - mae: 0.1541 - mse: 0.0417 - val_loss: 0.0305 - val_mae: 0.1323 - val_mse: 0.0305\n",
      "Epoch 4/30\n",
      "23/23 [==============================] - 1s 27ms/step - loss: 0.0306 - mae: 0.1389 - mse: 0.0306 - val_loss: 0.0219 - val_mae: 0.1190 - val_mse: 0.0219\n",
      "Epoch 5/30\n",
      "23/23 [==============================] - 1s 27ms/step - loss: 0.0257 - mae: 0.1315 - mse: 0.0257 - val_loss: 0.0184 - val_mae: 0.1115 - val_mse: 0.0184\n",
      "Epoch 6/30\n",
      "23/23 [==============================] - 1s 26ms/step - loss: 0.0233 - mae: 0.1264 - mse: 0.0233 - val_loss: 0.0166 - val_mae: 0.1050 - val_mse: 0.0166\n",
      "Epoch 7/30\n",
      "23/23 [==============================] - 1s 27ms/step - loss: 0.0218 - mae: 0.1209 - mse: 0.0218 - val_loss: 0.0156 - val_mae: 0.1012 - val_mse: 0.0156\n",
      "Epoch 8/30\n",
      "23/23 [==============================] - 1s 27ms/step - loss: 0.0203 - mae: 0.1170 - mse: 0.0203 - val_loss: 0.0150 - val_mae: 0.0994 - val_mse: 0.0150\n",
      "Epoch 9/30\n",
      "23/23 [==============================] - 1s 28ms/step - loss: 0.0189 - mae: 0.1114 - mse: 0.0189 - val_loss: 0.0175 - val_mae: 0.1091 - val_mse: 0.0175\n",
      "Epoch 10/30\n",
      "23/23 [==============================] - 1s 27ms/step - loss: 0.0177 - mae: 0.1084 - mse: 0.0177 - val_loss: 0.0138 - val_mae: 0.0954 - val_mse: 0.0138\n",
      "Epoch 11/30\n",
      "23/23 [==============================] - 1s 27ms/step - loss: 0.0159 - mae: 0.1010 - mse: 0.0159 - val_loss: 0.0126 - val_mae: 0.0913 - val_mse: 0.0126\n",
      "Epoch 12/30\n",
      "23/23 [==============================] - 1s 27ms/step - loss: 0.0146 - mae: 0.0967 - mse: 0.0146 - val_loss: 0.0126 - val_mae: 0.0922 - val_mse: 0.0126\n",
      "Epoch 13/30\n",
      "23/23 [==============================] - 1s 27ms/step - loss: 0.0136 - mae: 0.0929 - mse: 0.0136 - val_loss: 0.0114 - val_mae: 0.0876 - val_mse: 0.0114\n",
      "Epoch 14/30\n",
      "23/23 [==============================] - 1s 27ms/step - loss: 0.0131 - mae: 0.0882 - mse: 0.0131 - val_loss: 0.0104 - val_mae: 0.0822 - val_mse: 0.0104\n",
      "Epoch 15/30\n",
      "23/23 [==============================] - 1s 27ms/step - loss: 0.0125 - mae: 0.0859 - mse: 0.0125 - val_loss: 0.0110 - val_mae: 0.0856 - val_mse: 0.0110\n",
      "Epoch 16/30\n",
      "23/23 [==============================] - 1s 28ms/step - loss: 0.0117 - mae: 0.0832 - mse: 0.0117 - val_loss: 0.0096 - val_mae: 0.0787 - val_mse: 0.0096\n",
      "Epoch 17/30\n",
      "23/23 [==============================] - 1s 27ms/step - loss: 0.0110 - mae: 0.0790 - mse: 0.0110 - val_loss: 0.0090 - val_mae: 0.0753 - val_mse: 0.0090\n",
      "Epoch 18/30\n",
      "23/23 [==============================] - 1s 28ms/step - loss: 0.0106 - mae: 0.0780 - mse: 0.0106 - val_loss: 0.0090 - val_mae: 0.0763 - val_mse: 0.0090\n",
      "Epoch 19/30\n",
      "23/23 [==============================] - 1s 27ms/step - loss: 0.0102 - mae: 0.0762 - mse: 0.0102 - val_loss: 0.0082 - val_mae: 0.0712 - val_mse: 0.0082\n",
      "Epoch 20/30\n",
      "23/23 [==============================] - 1s 28ms/step - loss: 0.0099 - mae: 0.0731 - mse: 0.0099 - val_loss: 0.0083 - val_mae: 0.0726 - val_mse: 0.0083\n",
      "Epoch 21/30\n",
      "23/23 [==============================] - 1s 27ms/step - loss: 0.0097 - mae: 0.0755 - mse: 0.0097 - val_loss: 0.0077 - val_mae: 0.0694 - val_mse: 0.0077\n",
      "Epoch 22/30\n",
      "23/23 [==============================] - 1s 28ms/step - loss: 0.0093 - mae: 0.0707 - mse: 0.0093 - val_loss: 0.0074 - val_mae: 0.0680 - val_mse: 0.0074\n",
      "Epoch 23/30\n",
      "23/23 [==============================] - 1s 28ms/step - loss: 0.0089 - mae: 0.0698 - mse: 0.0089 - val_loss: 0.0074 - val_mae: 0.0685 - val_mse: 0.0074\n",
      "Epoch 24/30\n",
      "23/23 [==============================] - 1s 27ms/step - loss: 0.0087 - mae: 0.0700 - mse: 0.0087 - val_loss: 0.0070 - val_mae: 0.0654 - val_mse: 0.0070\n",
      "Epoch 25/30\n",
      "23/23 [==============================] - 1s 27ms/step - loss: 0.0084 - mae: 0.0667 - mse: 0.0084 - val_loss: 0.0067 - val_mae: 0.0639 - val_mse: 0.0067\n",
      "Epoch 26/30\n",
      "23/23 [==============================] - 1s 29ms/step - loss: 0.0084 - mae: 0.0679 - mse: 0.0084 - val_loss: 0.0070 - val_mae: 0.0654 - val_mse: 0.0070\n",
      "Epoch 27/30\n",
      "23/23 [==============================] - 1s 28ms/step - loss: 0.0081 - mae: 0.0655 - mse: 0.0081 - val_loss: 0.0063 - val_mae: 0.0615 - val_mse: 0.0063\n",
      "Epoch 28/30\n",
      "23/23 [==============================] - 1s 27ms/step - loss: 0.0078 - mae: 0.0649 - mse: 0.0078 - val_loss: 0.0065 - val_mae: 0.0622 - val_mse: 0.0065\n",
      "Epoch 29/30\n",
      "23/23 [==============================] - 1s 29ms/step - loss: 0.0076 - mae: 0.0630 - mse: 0.0076 - val_loss: 0.0060 - val_mae: 0.0597 - val_mse: 0.0060\n",
      "Epoch 30/30\n",
      "23/23 [==============================] - 1s 28ms/step - loss: 0.0075 - mae: 0.0620 - mse: 0.0075 - val_loss: 0.0063 - val_mae: 0.0602 - val_mse: 0.0063\n"
     ]
    }
   ],
   "source": [
    "model.compile(loss='mean_squared_error', optimizer='adam', metrics=['mae','mse'])\n",
    "\n",
    "history = model.fit(x_train, y_train,\n",
    "                   epochs=30,\n",
    "                   batch_size=16,\n",
    "                   validation_data=(x_valid, y_valid)\n",
    "                   )"
   ]
  },
  {
   "cell_type": "code",
   "execution_count": 27,
   "id": "adequate-prison",
   "metadata": {
    "scrolled": true
   },
   "outputs": [],
   "source": [
    "pred = model.predict(test_feature)"
   ]
  },
  {
   "cell_type": "code",
   "execution_count": 28,
   "id": "confidential-ecology",
   "metadata": {},
   "outputs": [
    {
     "name": "stdout",
     "output_type": "stream",
     "text": [
      "(100, 30, 1)\n",
      "(100, 10)\n",
      "(100, 10)\n"
     ]
    }
   ],
   "source": [
    "print(test_feature.shape)\n",
    "\n",
    "test_label = test_label.reshape(test_label.shape[0],test_label.shape[1])\n",
    "print(test_label.shape)\n",
    "\n",
    "print(pred.shape)"
   ]
  },
  {
   "cell_type": "code",
   "execution_count": 29,
   "id": "peripheral-apparatus",
   "metadata": {},
   "outputs": [
    {
     "name": "stdout",
     "output_type": "stream",
     "text": [
      "(100, 30, 1)\n",
      "(100, 10)\n"
     ]
    }
   ],
   "source": [
    "tl = test_label.reshape(test_label.shape[0],test_label.shape[1],1)\n",
    "pl = pred.reshape(pred.shape[0],pred.shape[1],1)\n",
    "print(test_feature.shape)\n",
    "print(pred.shape)\n",
    "# p = test_feature + pred"
   ]
  },
  {
   "cell_type": "code",
   "execution_count": 59,
   "id": "electric-collect",
   "metadata": {},
   "outputs": [],
   "source": [
    "d = df_scaled"
   ]
  },
  {
   "cell_type": "code",
   "execution_count": 60,
   "id": "quantitative-bacon",
   "metadata": {},
   "outputs": [
    {
     "data": {
      "text/plain": [
       "type 0     0.300000\n",
       "type 1     0.121212\n",
       "type 2     0.028571\n",
       "type 3     0.193548\n",
       "type 4     0.157895\n",
       "type 5     0.188679\n",
       "type 6     0.125000\n",
       "type 7     0.297872\n",
       "type 8     0.265625\n",
       "type 9     0.127273\n",
       "type 10    0.041096\n",
       "type 11    0.095238\n",
       "type 12    0.303797\n",
       "type 13    0.087500\n",
       "type 14    0.274725\n",
       "type 15    0.358333\n",
       "type 16    0.641667\n",
       "type 17    0.510490\n",
       "type 18    0.851852\n",
       "type 19    0.848101\n",
       "type 20    0.903382\n",
       "type 21    0.816327\n",
       "type 22    0.938144\n",
       "type 23    0.852217\n",
       "type 24    0.627907\n",
       "type 25    0.960199\n",
       "type 26    0.726457\n",
       "type 27    0.645833\n",
       "type 28    0.703557\n",
       "type 29    0.683206\n",
       "type 30    0.655039\n",
       "type 31    0.669323\n",
       "type 32    0.709302\n",
       "type 33    0.716000\n",
       "type 34    0.754864\n",
       "type 35    0.703704\n",
       "type 36    0.737500\n",
       "type 37    0.847737\n",
       "type 38    0.795455\n",
       "type 39    0.831461\n",
       "Name: 0, dtype: float64"
      ]
     },
     "execution_count": 60,
     "metadata": {},
     "output_type": "execute_result"
    }
   ],
   "source": [
    "d.iloc[0]"
   ]
  },
  {
   "cell_type": "code",
   "execution_count": 56,
   "id": "composite-blanket",
   "metadata": {},
   "outputs": [
    {
     "data": {
      "text/plain": [
       "array([[ 25.,  10.,   5., ..., 414., 422., 449.],\n",
       "       [ 27.,  22.,  33., ..., 146., 178., 161.],\n",
       "       [ 13.,  14.,  73., ..., 158., 160., 167.],\n",
       "       ...,\n",
       "       [ 35.,  12.,  25., ...,  28.,  46.,  43.],\n",
       "       [ 79.,  38.,  39., ...,  34.,  52.,  49.],\n",
       "       [ 23.,   2.,  41., ...,  26.,  36.,  35.]])"
      ]
     },
     "execution_count": 56,
     "metadata": {},
     "output_type": "execute_result"
    }
   ],
   "source": [
    "scaler.inverse_transform(d)"
   ]
  },
  {
   "cell_type": "code",
   "execution_count": 44,
   "id": "intelligent-arrest",
   "metadata": {},
   "outputs": [
    {
     "name": "stdout",
     "output_type": "stream",
     "text": [
      "(100, 10)\n"
     ]
    }
   ],
   "source": [
    "tl = tl.reshape(100,10)\n",
    "print(tl.shape)"
   ]
  },
  {
   "cell_type": "code",
   "execution_count": 45,
   "id": "becoming-tower",
   "metadata": {},
   "outputs": [],
   "source": [
    "tp = pd.DataFrame(tl)"
   ]
  },
  {
   "cell_type": "code",
   "execution_count": 49,
   "id": "intensive-loading",
   "metadata": {},
   "outputs": [
    {
     "data": {
      "text/plain": [
       "(500, 40)"
      ]
     },
     "execution_count": 49,
     "metadata": {},
     "output_type": "execute_result"
    }
   ],
   "source": [
    "df_scaled.shape"
   ]
  },
  {
   "cell_type": "code",
   "execution_count": 50,
   "id": "invisible-title",
   "metadata": {},
   "outputs": [
    {
     "data": {
      "text/plain": [
       "(100, 10)"
      ]
     },
     "execution_count": 50,
     "metadata": {},
     "output_type": "execute_result"
    }
   ],
   "source": [
    "tp.shape"
   ]
  },
  {
   "cell_type": "code",
   "execution_count": 47,
   "id": "auburn-humanitarian",
   "metadata": {},
   "outputs": [
    {
     "ename": "ValueError",
     "evalue": "operands could not be broadcast together with shapes (100,10) (40,) (100,10) ",
     "output_type": "error",
     "traceback": [
      "\u001b[1;31m---------------------------------------------------------------------------\u001b[0m",
      "\u001b[1;31mValueError\u001b[0m                                Traceback (most recent call last)",
      "\u001b[1;32m<ipython-input-47-f7fbdd85f0f7>\u001b[0m in \u001b[0;36m<module>\u001b[1;34m\u001b[0m\n\u001b[1;32m----> 1\u001b[1;33m \u001b[0mscaler\u001b[0m\u001b[1;33m.\u001b[0m\u001b[0minverse_transform\u001b[0m\u001b[1;33m(\u001b[0m\u001b[0mtp\u001b[0m\u001b[1;33m)\u001b[0m\u001b[1;33m\u001b[0m\u001b[1;33m\u001b[0m\u001b[0m\n\u001b[0m",
      "\u001b[1;32m~\\anaconda3\\envs\\tens_2gpu\\lib\\site-packages\\sklearn\\preprocessing\\_data.py\u001b[0m in \u001b[0;36minverse_transform\u001b[1;34m(self, X)\u001b[0m\n\u001b[0;32m    430\u001b[0m                         force_all_finite=\"allow-nan\")\n\u001b[0;32m    431\u001b[0m \u001b[1;33m\u001b[0m\u001b[0m\n\u001b[1;32m--> 432\u001b[1;33m         \u001b[0mX\u001b[0m \u001b[1;33m-=\u001b[0m \u001b[0mself\u001b[0m\u001b[1;33m.\u001b[0m\u001b[0mmin_\u001b[0m\u001b[1;33m\u001b[0m\u001b[1;33m\u001b[0m\u001b[0m\n\u001b[0m\u001b[0;32m    433\u001b[0m         \u001b[0mX\u001b[0m \u001b[1;33m/=\u001b[0m \u001b[0mself\u001b[0m\u001b[1;33m.\u001b[0m\u001b[0mscale_\u001b[0m\u001b[1;33m\u001b[0m\u001b[1;33m\u001b[0m\u001b[0m\n\u001b[0;32m    434\u001b[0m         \u001b[1;32mreturn\u001b[0m \u001b[0mX\u001b[0m\u001b[1;33m\u001b[0m\u001b[1;33m\u001b[0m\u001b[0m\n",
      "\u001b[1;31mValueError\u001b[0m: operands could not be broadcast together with shapes (100,10) (40,) (100,10) "
     ]
    }
   ],
   "source": [
    "scaler.inverse_transform(tp)"
   ]
  },
  {
   "cell_type": "code",
   "execution_count": 21,
   "id": "attended-testing",
   "metadata": {},
   "outputs": [],
   "source": [
    "z1 = np.concatenate((test_feature[20],tl[20]))\n",
    "z2 = np.concatenate((test_feature[20],pl[20]))"
   ]
  },
  {
   "cell_type": "code",
   "execution_count": 30,
   "id": "inappropriate-doctrine",
   "metadata": {
    "scrolled": true
   },
   "outputs": [
    {
     "name": "stdout",
     "output_type": "stream",
     "text": [
      "[[0.525     ]\n",
      " [0.54545455]\n",
      " [0.08571429]\n",
      " [0.06451613]\n",
      " [0.44736842]\n",
      " [0.20754717]\n",
      " [0.30357143]\n",
      " [0.        ]\n",
      " [0.        ]\n",
      " [0.36363636]\n",
      " [0.31506849]\n",
      " [0.26190476]\n",
      " [0.15189873]\n",
      " [0.0625    ]\n",
      " [0.0989011 ]\n",
      " [0.125     ]\n",
      " [0.15833333]\n",
      " [0.15384615]\n",
      " [0.28888889]\n",
      " [0.2278481 ]\n",
      " [0.22705314]\n",
      " [0.15816327]\n",
      " [0.25773196]\n",
      " [0.13300493]\n",
      " [0.22790698]\n",
      " [0.20895522]\n",
      " [0.25560538]\n",
      " [0.26666667]\n",
      " [0.22529644]\n",
      " [0.22137405]\n",
      " [0.25193798]\n",
      " [0.28685259]\n",
      " [0.38372093]\n",
      " [0.42      ]\n",
      " [0.40466926]\n",
      " [0.4691358 ]\n",
      " [0.5625    ]\n",
      " [0.6090535 ]\n",
      " [0.64015152]\n",
      " [0.67790262]]\n"
     ]
    }
   ],
   "source": [
    "print(z1)"
   ]
  },
  {
   "cell_type": "code",
   "execution_count": 21,
   "id": "stunning-indiana",
   "metadata": {},
   "outputs": [
    {
     "data": {
      "image/png": "[encoded data removed]",
      "text/plain": [
       "<Figure size 864x648 with 1 Axes>"
      ]
     },
     "metadata": {
      "needs_background": "light"
     },
     "output_type": "display_data"
    }
   ],
   "source": [
    "plt.figure(figsize=(12,9))\n",
    "#plt.plot(test_label[4], label='actual')\n",
    "#plt.plot(test_feature[4], label='actual')\n",
    "#plt.plot(pred[4], label='prediction')\n",
    "plt.plot(z1 ,label='actual')\n",
    "plt.plot(z2, label='prediction')\n",
    "plt.legend()\n",
    "plt.show()"
   ]
  },
  {
   "cell_type": "code",
   "execution_count": 85,
   "id": "emerging-bouquet",
   "metadata": {},
   "outputs": [],
   "source": [
    "from scipy.ndimage.filters import gaussian_filter1d"
   ]
  },
  {
   "cell_type": "code",
   "execution_count": 95,
   "id": "automotive-plant",
   "metadata": {},
   "outputs": [],
   "source": [
    "y1 = gaussian_filter1d(z1, sigma=10)\n",
    "y2 = gaussian_filter1d(z2, sigma=10)"
   ]
  },
  {
   "cell_type": "code",
   "execution_count": 97,
   "id": "analyzed-memorial",
   "metadata": {},
   "outputs": [
    {
     "data": {
      "text/plain": [
       "[<matplotlib.lines.Line2D at 0x1ddf516de48>]"
      ]
     },
     "execution_count": 97,
     "metadata": {},
     "output_type": "execute_result"
    },
    {
     "data": {
      "image/png": "[encoded data removed]",
      "text/plain": [
       "<Figure size 432x288 with 1 Axes>"
      ]
     },
     "metadata": {
      "needs_background": "light"
     },
     "output_type": "display_data"
    }
   ],
   "source": [
    "plt.plot(y1 ,label='actual')\n",
    "plt.plot(y2, label='prediction')"
   ]
  },
  {
   "cell_type": "code",
   "execution_count": null,
   "id": "statistical-weekend",
   "metadata": {},
   "outputs": [],
   "source": []
  }
 ],
 "metadata": {
  "kernelspec": {
   "display_name": "Python 3",
   "language": "python",
   "name": "python3"
  },
  "language_info": {
   "codemirror_mode": {
    "name": "ipython",
    "version": 3
   },
   "file_extension": ".py",
   "mimetype": "text/x-python",
   "name": "python",
   "nbconvert_exporter": "python",
   "pygments_lexer": "ipython3",
   "version": "3.7.9"
  }
 },
 "nbformat": 4,
 "nbformat_minor": 5
}
