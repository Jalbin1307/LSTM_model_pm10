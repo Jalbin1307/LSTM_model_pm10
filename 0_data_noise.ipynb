{
 "cells": [
  {
   "cell_type": "code",
   "execution_count": 14,
   "id": "floating-waters",
   "metadata": {},
   "outputs": [],
   "source": []
  },
  {
   "cell_type": "code",
   "execution_count": 67,
   "id": "individual-blair",
   "metadata": {},
   "outputs": [],
   "source": [
    "# list = [9,  14,  9,  9,  36,  40,  52,  40,  53,  44,  64,  75,  67,  77,  85,  89,  107,  131,  115,  108,  79,  99,  109,  114,  118,  117,  110,  109,  105,  108,  122,  122,  116,  122,  114,  128,  127,  113,  104,  140]"
   ]
  },
  {
   "cell_type": "code",
   "execution_count": 73,
   "id": "injured-alexander",
   "metadata": {},
   "outputs": [],
   "source": [
    "# for i in range(len(list)):\n",
    "#     list[i] = list[i] + random.randint(-5,0)\n",
    "#     if list[i]<0:\n",
    "#         list[i] = abs(list[i])"
   ]
  },
  {
   "cell_type": "code",
   "execution_count": 74,
   "id": "noticed-titanium",
   "metadata": {},
   "outputs": [
    {
     "name": "stdout",
     "output_type": "stream",
     "text": [
      "[10, 11, 3, 14, 33, 39, 53, 44, 52, 47, 72, 73, 72, 74, 76, 94, 107, 132, 111, 105, 84, 100, 107, 111, 120, 121, 118, 114, 100, 105, 123, 123, 109, 126, 113, 124, 120, 117, 103, 137]\n"
     ]
    }
   ],
   "source": [
    "# print(list)"
   ]
  },
  {
   "cell_type": "code",
   "execution_count": 17,
   "id": "therapeutic-jacket",
   "metadata": {},
   "outputs": [],
   "source": [
    "import csv\n",
    "import random"
   ]
  },
  {
   "cell_type": "code",
   "execution_count": 2,
   "id": "massive-confirmation",
   "metadata": {},
   "outputs": [],
   "source": [
    "f = open(\"dt_n.csv\", \"r\")\n",
    "rdr = csv.reader(f)\n",
    "data = []\n",
    "for line in rdr:\n",
    "    data.append(line)\n",
    "f.close()"
   ]
  },
  {
   "cell_type": "code",
   "execution_count": 3,
   "id": "asian-caribbean",
   "metadata": {},
   "outputs": [],
   "source": [
    "data = data[1:]"
   ]
  },
  {
   "cell_type": "code",
   "execution_count": 12,
   "id": "younger-guidance",
   "metadata": {},
   "outputs": [],
   "source": [
    "dt = []\n",
    "for i in range(len(data)):\n",
    "    int_L = list(map(int, data[i]))\n",
    "    dt.append(int_L)"
   ]
  },
  {
   "cell_type": "code",
   "execution_count": 35,
   "id": "american-shooting",
   "metadata": {},
   "outputs": [],
   "source": [
    "ori = dt\n",
    "noise = []\n",
    "\n",
    "for k in range(5):\n",
    "    dt = ori\n",
    "    for i in range(len(dt)):\n",
    "        for j in range(len(dt[i])):\n",
    "            dt[i][j] = dt[i][j] + random.randint(-5,5)\n",
    "            if dt[i][j]<0:\n",
    "                dt[i][j] = abs(dt[i][j])\n",
    "            elif dt[i][j] == 0:\n",
    "                dt[i][j] = dt[i][j] + random.randint(1,5)\n",
    "        noise.append(dt[i])"
   ]
  },
  {
   "cell_type": "code",
   "execution_count": 38,
   "id": "objective-pixel",
   "metadata": {},
   "outputs": [
    {
     "data": {
      "text/plain": [
       "500"
      ]
     },
     "execution_count": 38,
     "metadata": {},
     "output_type": "execute_result"
    }
   ],
   "source": [
    "len(noise)"
   ]
  },
  {
   "cell_type": "code",
   "execution_count": 37,
   "id": "latter-difference",
   "metadata": {},
   "outputs": [
    {
     "name": "stdout",
     "output_type": "stream",
     "text": [
      "[3, 17, 17, 3, 23, 17, 13, 16, 10, 2, 22, 22, 42, 34, 34, 22, 106, 97, 98, 130, 92, 72, 69, 49, 127, 88, 55, 58, 83, 64, 163, 191, 195, 181, 148, 193, 180, 221, 200, 257]\n"
     ]
    }
   ],
   "source": [
    "print(noise[0])"
   ]
  },
  {
   "cell_type": "code",
   "execution_count": null,
   "id": "finite-touch",
   "metadata": {},
   "outputs": [],
   "source": []
  }
 ],
 "metadata": {
  "kernelspec": {
   "display_name": "Python 3",
   "language": "python",
   "name": "python3"
  },
  "language_info": {
   "codemirror_mode": {
    "name": "ipython",
    "version": 3
   },
   "file_extension": ".py",
   "mimetype": "text/x-python",
   "name": "python",
   "nbconvert_exporter": "python",
   "pygments_lexer": "ipython3",
   "version": "3.7.9"
  }
 },
 "nbformat": 4,
 "nbformat_minor": 5
}
